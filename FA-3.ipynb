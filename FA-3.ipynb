{
 "cells": [
  {
   "cell_type": "markdown",
   "id": "278db835-d4a1-4132-88db-0e243d8f1b90",
   "metadata": {},
   "source": [
    "Q1. What is data encoding? How is it useful in data science?"
   ]
  },
  {
   "cell_type": "markdown",
   "id": "80154dfd-0262-4509-b3f0-6c6aa0513224",
   "metadata": {},
   "source": [
    "Data encoding, also known as data transformation or data representation, refers to the process of converting categorical or non-numeric data into a numeric format that can be easily processed and used by machine learning algorithms and statistical models. In data science, data encoding is a crucial step to handle categorical variables, as many algorithms require numeric input. The primary goal of data encoding is to represent data in a way that retains its underlying information while making it suitable for analysis and modeling.\n",
    "\n",
    "Data encoding is useful in data science for several reasons:\n",
    "\n",
    "Algorithm Compatibility: Many machine learning algorithms and statistical techniques work with numerical data. By encoding categorical variables into numeric representations, you enable these algorithms to process and analyze the data effectively.\n",
    "\n",
    "Handling Categorical Variables: Categorical variables, such as color, gender, or product categories, cannot be directly used in their original form by algorithms. Encoding converts these variables into a format that algorithms can understand, reducing the risk of model errors due to categorical data.\n",
    "\n",
    "Improved Model Performance: Accurate encoding can improve the performance of machine learning models. If categorical variables are not properly encoded, models might not be able to capture important patterns in the data.\n",
    "\n",
    "Consistency and Uniformity: Encoding ensures that data is presented in a consistent and uniform manner. This uniformity simplifies data analysis and modeling.\n",
    "\n",
    "Data Reduction: In some cases, encoding can lead to data reduction. For example, converting text categories to numerical codes can result in a reduction in memory usage and computational complexity."
   ]
  },
  {
   "cell_type": "markdown",
   "id": "6ec05e64-9c4e-4941-8948-ec0c0139e089",
   "metadata": {},
   "source": [
    "Q2. What is nominal encoding? Provide an example of how you would use it in a real-world scenario."
   ]
  },
  {
   "cell_type": "code",
   "execution_count": 11,
   "id": "d60a906a-8757-458f-9151-d6031bcb25c9",
   "metadata": {},
   "outputs": [],
   "source": [
    "import pandas as pd\n",
    "from sklearn.preprocessing import LabelEncoder\n",
    "\n",
    "data=['Red','yellow','green','red','green','red','yellow','green']\n",
    "\n",
    "encoder=LabelEncoder()\n",
    "\n",
    "\n",
    "encoded_Data=encoder.fit_transform(data)\n",
    "\n",
    "\n",
    "\n"
   ]
  },
  {
   "cell_type": "code",
   "execution_count": 15,
   "id": "00d95ee0-2fa8-4fcf-9949-5c4a059d4529",
   "metadata": {},
   "outputs": [
    {
     "data": {
      "text/plain": [
       "array([0, 3, 1, 2, 1, 2, 3, 1])"
      ]
     },
     "execution_count": 15,
     "metadata": {},
     "output_type": "execute_result"
    }
   ],
   "source": [
    "encoded_Data"
   ]
  },
  {
   "cell_type": "markdown",
   "id": "43707b94-4e66-4587-ac70-0165c012bf05",
   "metadata": {},
   "source": [
    "Q3. In what situations is nominal encoding preferred over one-hot encoding? Provide a practical example."
   ]
  },
  {
   "cell_type": "markdown",
   "id": "b43d9bb1-509b-4b13-8c87-255df842fc90",
   "metadata": {},
   "source": [
    "In most scenarios, one hot encoding is the preferred way to convert a categorical variable into a numeric variable because label encoding makes it seem that there is a ranking between values.\n",
    "\n",
    "For example, consider when we used label encoding to convert team into a numeric variable:\n",
    "\n",
    "\n",
    "\n",
    "The label encoded data makes it seem like team C is somehow greater or larger than teams B and A since it has a higher numeric value.\n",
    "\n",
    "This isn’t an issue if the original categorical variable actually is an ordinal variable with a natural ordering or ranking, but in many scenarios this isn’t the case.\n",
    "\n",
    "However, one drawback of one hot encoding is that it requires you to make as many new variables as there are unique values in the original categorical variable.\n",
    "\n",
    "This means that if your categorical variable has 100 unique values, you’ll have to create 100 new variables when using one hot encoding.\n",
    "\n",
    "Depending on the size of your dataset and the type of variables you’re working with, you may prefer one hot encoding or label encoding"
   ]
  },
  {
   "cell_type": "markdown",
   "id": "74955e0f-c1fe-4d6b-9089-611cf10b1d27",
   "metadata": {},
   "source": [
    "Q4. Suppose you have a dataset containing categorical data with 5 unique values. Which encoding\n",
    "technique would you use to transform this data into a format suitable for machine learning algorithms?\n",
    "Explain why you made this choice."
   ]
  },
  {
   "cell_type": "markdown",
   "id": "05692dae-2577-4588-93b4-a1d7d873e2ca",
   "metadata": {},
   "source": [
    "If the categorical variable doesn't have a meaningful order or ranking among its 5 unique values, and you want to treat each category independently, one-hot encoding would likely be the most suitable choice. This technique prevents any unintended relationships between the categories and ensures that the model treats each category as distinct.\n",
    "\n",
    "For example, if the categorical variable represents \"Car Brands\" with categories like \"Toyota,\" \"Ford,\" \"Honda,\" \"Chevrolet,\" and \"Nissan,\" and there's no inherent order among these brands, using one-hot encoding would transform the data into a format suitable for machine learning algorithms.\n",
    "\n",
    "Remember that the c"
   ]
  },
  {
   "cell_type": "markdown",
   "id": "185b0a12-9bb6-4b14-bbfe-14af8eac0c5c",
   "metadata": {},
   "source": [
    "Q5. In a machine learning project, you have a dataset with 1000 rows and 5 columns. Two of the columns\n",
    "are categorical, and the remaining three columns are numerical. If you were to use nominal encoding to\n",
    "transform the categorical data, how many new columns would be created? Show your calculations."
   ]
  },
  {
   "cell_type": "markdown",
   "id": "a2a423b5-4234-4957-b1a8-f5e3e3170c4b",
   "metadata": {},
   "source": [
    "If you're using nominal encoding (also known as one-hot encoding) to transform categorical data, each unique category within a column will be transformed into a separate binary column. The number of new columns created for each categorical column is equal to the number of unique categories in that column.\n",
    "\n",
    "In your scenario:\n",
    "\n",
    "You have 2 categorical columns.\n",
    "The number of unique categories in the first categorical column is denoted as \"n1.\"\n",
    "The number of unique categories in the second categorical column is denoted as \"n2.\"\n",
    "The total number of new columns created through nominal encoding would be the sum of the unique categories in both categorical columns: n1 + n2."
   ]
  },
  {
   "cell_type": "markdown",
   "id": "e44cd9a5-3ebe-47ad-88a7-ee643a0d73ca",
   "metadata": {},
   "source": [
    "Q6. You are working with a dataset containing information about different types of animals, including their\n",
    "species, habitat, and diet. Which encoding technique would you use to transform the categorical data into\n",
    "a format suitable for machine learning algorithms? Justify your answer."
   ]
  },
  {
   "cell_type": "markdown",
   "id": "6e7c476a-2199-4fc6-9ece-0e730b713469",
   "metadata": {},
   "source": [
    "Based on the information provided, it's likely that you'll need a combination of encoding techniques:\n",
    "\n",
    "For nominal categorical variables like \"species\" and \"habitat,\" one-hot encoding is a suitable choice. It avoids introducing order and allows the model to treat each category independently.\n",
    "For ordinal categorical variables like \"diet\" where there's a meaningful order, you might consider label encoding if the order is meaningful. Otherwise, ordinal encoding might be a better choice to avoid assuming equal spacing between labels."
   ]
  },
  {
   "cell_type": "markdown",
   "id": "71b41e0f-c51a-40d1-a4c3-994a1d76c222",
   "metadata": {},
   "source": [
    "Q7.You are working on a project that involves predicting customer churn for a telecommunications\n",
    "company. You have a dataset with 5 features, including the customer's gender, age, contract type,\n",
    "monthly charges, and tenure. Which encoding technique(s) would you use to transform the categorical\n",
    "data into numerical data? Provide a step-by-step explanation of how you would implement the encoding."
   ]
  },
  {
   "cell_type": "markdown",
   "id": "3fe3ff1f-fd86-4d0a-83fc-3ae4cc567c7a",
   "metadata": {},
   "source": [
    "In this scenario, you have a dataset with a mix of categorical and numerical features, and you need to transform the categorical data into numerical format suitable for machine learning algorithms. Let's go through the steps of encoding each categorical feature:\n",
    "\n",
    "Features:\n",
    "\n",
    "Gender (Categorical)\n",
    "Age (Numerical)\n",
    "Contract Type (Categorical)\n",
    "Monthly Charges (Numerical)\n",
    "Tenure (Numerical"
   ]
  },
  {
   "cell_type": "code",
   "execution_count": 9,
   "id": "1360adad-39e8-4adf-97e0-a28a8eac6bd9",
   "metadata": {},
   "outputs": [
    {
     "name": "stdout",
     "output_type": "stream",
     "text": [
      "   Age  Monthly_Charges  Tenure  Gender_Encoded  Contract_Type_Encoded  \\\n",
      "0   25             50.0      12               1                      0   \n",
      "1   30             70.0      24               0                      1   \n",
      "2   40             85.0       6               1                      2   \n",
      "3   22             60.0       3               0                      0   \n",
      "4   50             95.0      36               1                      2   \n",
      "\n",
      "   Gender_Male  Contract_Type_One Year  Contract_Type_Two Year  Gender_Male  \\\n",
      "0          1.0                     0.0                     0.0          1.0   \n",
      "1          0.0                     1.0                     0.0          0.0   \n",
      "2          1.0                     0.0                     1.0          1.0   \n",
      "3          0.0                     0.0                     0.0          0.0   \n",
      "4          1.0                     0.0                     1.0          1.0   \n",
      "\n",
      "   Contract_Type_One Year  Contract_Type_Two Year  \n",
      "0                     0.0                     0.0  \n",
      "1                     1.0                     0.0  \n",
      "2                     0.0                     1.0  \n",
      "3                     0.0                     0.0  \n",
      "4                     0.0                     1.0  \n"
     ]
    },
    {
     "name": "stderr",
     "output_type": "stream",
     "text": [
      "/opt/conda/lib/python3.10/site-packages/sklearn/preprocessing/_encoders.py:808: FutureWarning: `sparse` was renamed to `sparse_output` in version 1.2 and will be removed in 1.4. `sparse_output` is ignored unless you leave `sparse` to its default value.\n",
      "  warnings.warn(\n"
     ]
    }
   ],
   "source": [
    "\n",
    "import pandas as pd\n",
    "from sklearn.preprocessing import OneHotEncoder, LabelEncoder\n",
    "\n",
    "# Sample data\n",
    "data = {\n",
    "    'Gender': ['Male', 'Female', 'Male', 'Female', 'Male'],\n",
    "    'Contract_Type': ['Month-to-Month', 'One Year', 'Two Year', 'Month-to-Month', 'Two Year'],\n",
    "    'Age': [25, 30, 40, 22, 50],\n",
    "    'Monthly_Charges': [50.0, 70.0, 85.0, 60.0, 95.0],\n",
    "    'Tenure': [12, 24, 6, 3, 36]\n",
    "}\n",
    "\n",
    "df = pd.DataFrame(data)\n",
    "\n",
    "# Initialize LabelEncoder for gender and contract type\n",
    "label_encoder = LabelEncoder()\n",
    "df['Gender_Encoded'] = label_encoder.fit_transform(df['Gender'])\n",
    "df['Contract_Type_Encoded'] = label_encoder.fit_transform(df['Contract_Type'])\n",
    "#encoded_df = pd.DataFrame(encoded_features, columns=onehot_encoder.get_feature_names_out(['Gender', 'Contract_Type']))\n",
    "df = pd.concat([df, encoded_df], axis=1)\n",
    "\n",
    "# Initialize OneHotEncoder for gender and contract type\n",
    "onehot_encoder = OneHotEncoder(sparse=False, drop='first')\n",
    "encoded_features = onehot_encoder.fit_transform(df[['Gender', 'Contract_Type']])\n",
    "encoded_df = pd.DataFrame(encoded_features, columns=onehot_encoder.get_feature_names_out(['Gender', 'Contract_Type']))\n",
    "df = pd.concat([df, encoded_df], axis=1)\n",
    "\n",
    "# Drop the original categorical columns\n",
    "df.drop(['Gender', 'Contract_Type'], axis=1, inplace=True)\n",
    "\n",
    "print(df)\n"
   ]
  },
  {
   "cell_type": "code",
   "execution_count": 4,
   "id": "88a79560-2052-4060-8bba-31fa8fb6b3bd",
   "metadata": {},
   "outputs": [],
   "source": [
    "import pandas as pd\n",
    "from sklearn.preprocessing import OneHotEncoder,LabelEncoder\n",
    "\n",
    "data = {\n",
    "    'Gender': ['Male', 'Female', 'Male', 'Female', 'Male'],\n",
    "    'Contract_Type': ['Month-to-Month', 'One Year', 'Two Year', 'Month-to-Month', 'Two Year'],\n",
    "    'Age': [25, 30, 40, 22, 50],\n",
    "    'Monthly_Charges': [50.0, 70.0, 85.0, 60.0, 95.0],\n",
    "    'Tenure': [12, 24, 6, 3, 36]\n",
    "}\n",
    "\n",
    "df = pd.DataFrame(data)"
   ]
  },
  {
   "cell_type": "code",
   "execution_count": 5,
   "id": "8c9db820-e1ad-4579-8d71-5210aff01d70",
   "metadata": {},
   "outputs": [
    {
     "data": {
      "text/html": [
       "<div>\n",
       "<style scoped>\n",
       "    .dataframe tbody tr th:only-of-type {\n",
       "        vertical-align: middle;\n",
       "    }\n",
       "\n",
       "    .dataframe tbody tr th {\n",
       "        vertical-align: top;\n",
       "    }\n",
       "\n",
       "    .dataframe thead th {\n",
       "        text-align: right;\n",
       "    }\n",
       "</style>\n",
       "<table border=\"1\" class=\"dataframe\">\n",
       "  <thead>\n",
       "    <tr style=\"text-align: right;\">\n",
       "      <th></th>\n",
       "      <th>Gender</th>\n",
       "      <th>Contract_Type</th>\n",
       "      <th>Age</th>\n",
       "      <th>Monthly_Charges</th>\n",
       "      <th>Tenure</th>\n",
       "    </tr>\n",
       "  </thead>\n",
       "  <tbody>\n",
       "    <tr>\n",
       "      <th>0</th>\n",
       "      <td>Male</td>\n",
       "      <td>Month-to-Month</td>\n",
       "      <td>25</td>\n",
       "      <td>50.0</td>\n",
       "      <td>12</td>\n",
       "    </tr>\n",
       "    <tr>\n",
       "      <th>1</th>\n",
       "      <td>Female</td>\n",
       "      <td>One Year</td>\n",
       "      <td>30</td>\n",
       "      <td>70.0</td>\n",
       "      <td>24</td>\n",
       "    </tr>\n",
       "    <tr>\n",
       "      <th>2</th>\n",
       "      <td>Male</td>\n",
       "      <td>Two Year</td>\n",
       "      <td>40</td>\n",
       "      <td>85.0</td>\n",
       "      <td>6</td>\n",
       "    </tr>\n",
       "    <tr>\n",
       "      <th>3</th>\n",
       "      <td>Female</td>\n",
       "      <td>Month-to-Month</td>\n",
       "      <td>22</td>\n",
       "      <td>60.0</td>\n",
       "      <td>3</td>\n",
       "    </tr>\n",
       "    <tr>\n",
       "      <th>4</th>\n",
       "      <td>Male</td>\n",
       "      <td>Two Year</td>\n",
       "      <td>50</td>\n",
       "      <td>95.0</td>\n",
       "      <td>36</td>\n",
       "    </tr>\n",
       "  </tbody>\n",
       "</table>\n",
       "</div>"
      ],
      "text/plain": [
       "   Gender   Contract_Type  Age  Monthly_Charges  Tenure\n",
       "0    Male  Month-to-Month   25             50.0      12\n",
       "1  Female        One Year   30             70.0      24\n",
       "2    Male        Two Year   40             85.0       6\n",
       "3  Female  Month-to-Month   22             60.0       3\n",
       "4    Male        Two Year   50             95.0      36"
      ]
     },
     "execution_count": 5,
     "metadata": {},
     "output_type": "execute_result"
    }
   ],
   "source": [
    "df"
   ]
  }
 ],
 "metadata": {
  "kernelspec": {
   "display_name": "Python 3 (ipykernel)",
   "language": "python",
   "name": "python3"
  },
  "language_info": {
   "codemirror_mode": {
    "name": "ipython",
    "version": 3
   },
   "file_extension": ".py",
   "mimetype": "text/x-python",
   "name": "python",
   "nbconvert_exporter": "python",
   "pygments_lexer": "ipython3",
   "version": "3.10.8"
  }
 },
 "nbformat": 4,
 "nbformat_minor": 5
}
